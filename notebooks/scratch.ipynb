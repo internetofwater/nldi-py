{
 "cells": [
  {
   "cell_type": "code",
   "execution_count": 1,
   "metadata": {},
   "outputs": [],
   "source": [
    "from nldi.functions.basin import basin_query"
   ]
  },
  {
   "cell_type": "code",
   "execution_count": 2,
   "metadata": {},
   "outputs": [],
   "source": [
    "x = basin_query(\"01031500\", simplify=False)"
   ]
  },
  {
   "cell_type": "code",
   "execution_count": 3,
   "metadata": {},
   "outputs": [
    {
     "data": {
      "text/plain": [
       "sqlalchemy.sql.selectable.Select"
      ]
     },
     "execution_count": 3,
     "metadata": {},
     "output_type": "execute_result"
    }
   ],
   "source": [
    "type(x)"
   ]
  },
  {
   "cell_type": "code",
   "execution_count": 8,
   "metadata": {},
   "outputs": [
    {
     "name": "stdout",
     "output_type": "stream",
     "text": [
      "WITH RECURSIVE nav(comid, hydroseq, startflag) AS \n",
      "(SELECT fl_vaa.comid AS comid, fl_vaa.hydroseq AS hydroseq, fl_vaa.startflag AS startflag \n",
      "FROM characteristic_data.plusflowlinevaa_np21 AS fl_vaa \n",
      "WHERE fl_vaa.comid = :comid UNION SELECT fl_vaa.comid AS comid, fl_vaa.hydroseq AS hydroseq, fl_vaa.startflag AS startflag \n",
      "FROM characteristic_data.plusflowlinevaa_np21 AS fl_vaa, nav \n",
      "WHERE nav.startflag != :startflag_1 AND (fl_vaa.dnhydroseq = nav.hydroseq OR fl_vaa.dnminorhyd != :dnminorhyd_1 AND fl_vaa.dnminorhyd = nav.hydroseq))\n",
      " SELECT ST_AsGeoJSON(ST_Union(characteristic_data.catchmentsp.the_geom), :ST_AsGeoJSON_1, :ST_AsGeoJSON_2) AS the_geom \n",
      "FROM nav JOIN characteristic_data.catchmentsp ON nav.comid = characteristic_data.catchmentsp.featureid\n"
     ]
    }
   ],
   "source": [
    "print(x.params())"
   ]
  },
  {
   "cell_type": "code",
   "execution_count": null,
   "metadata": {},
   "outputs": [],
   "source": []
  }
 ],
 "metadata": {
  "kernelspec": {
   "display_name": ".venv",
   "language": "python",
   "name": "python3"
  },
  "language_info": {
   "codemirror_mode": {
    "name": "ipython",
    "version": 3
   },
   "file_extension": ".py",
   "mimetype": "text/x-python",
   "name": "python",
   "nbconvert_exporter": "python",
   "pygments_lexer": "ipython3",
   "version": "3.12.4"
  }
 },
 "nbformat": 4,
 "nbformat_minor": 2
}

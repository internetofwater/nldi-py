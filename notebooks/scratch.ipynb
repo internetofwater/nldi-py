{
 "cells": [
  {
   "cell_type": "code",
   "execution_count": null,
   "metadata": {},
   "outputs": [],
   "source": [
    "# from nldi.server import APP\n",
    "# APP.config.update({\"TESTING\": True})"
   ]
  },
  {
   "cell_type": "code",
   "execution_count": 1,
   "metadata": {},
   "outputs": [],
   "source": [
    "from nldi.api import main\n",
    "\n",
    "api = main.API(db_info={\n",
    "        \"user\": \"nldi\",\n",
    "        \"password\": \"changeMe\",\n",
    "        \"host\": \"172.17.0.2\",\n",
    "        \"port\": 5432,\n",
    "        \"dbname\": \"nldi\",\n",
    "    })"
   ]
  },
  {
   "cell_type": "code",
   "execution_count": 1,
   "metadata": {},
   "outputs": [],
   "source": [
    "import logging\n",
    "logging.basicConfig(level=logging.DEBUG, force=True)"
   ]
  },
  {
   "cell_type": "code",
   "execution_count": 2,
   "metadata": {},
   "outputs": [],
   "source": [
    "from nldi.config import Configuration"
   ]
  },
  {
   "cell_type": "code",
   "execution_count": 3,
   "metadata": {},
   "outputs": [],
   "source": [
    "import os\n",
    "os.environ.update(\n",
    "    dict(\n",
    "        NLDI_PATH=\"/api/nldi\",\n",
    "        NLDI_URL=\"http://localhost:8081/api/nldi\",\n",
    "        NLDI_DB_HOST='172.17.0.2',\n",
    "        NLDI_DB_PORT='5432',\n",
    "        NLDI_DB_NAME='nldi',\n",
    "        NLDI_DB_USERNAME='nldi',\n",
    "        NLDI_DB_PASSWORD='changeMe',\n",
    "        PYGEOAPI_URL='https://labs.waterdata.usgs.gov/api/nldi/pygeoapi/',\n",
    "        NLDI_CONFIG=\"/home/trantham/nldi-py/tests/data/sources_config.yml\"\n",
    "    )\n",
    ")"
   ]
  },
  {
   "cell_type": "code",
   "execution_count": 4,
   "metadata": {},
   "outputs": [],
   "source": [
    "from nldi.config import CONFIG"
   ]
  },
  {
   "cell_type": "code",
   "execution_count": 7,
   "metadata": {},
   "outputs": [
    {
     "data": {
      "text/plain": [
       "{'host': '172.17.0.2',\n",
       " 'port': 5432,\n",
       " 'dbname': 'nldi',\n",
       " 'user': 'nldi',\n",
       " 'password': 'changeMe'}"
      ]
     },
     "execution_count": 7,
     "metadata": {},
     "output_type": "execute_result"
    }
   ],
   "source": [
    "CONFIG['server']['data']"
   ]
  },
  {
   "cell_type": "code",
   "execution_count": null,
   "metadata": {},
   "outputs": [],
   "source": []
  }
 ],
 "metadata": {
  "kernelspec": {
   "display_name": ".venv",
   "language": "python",
   "name": "python3"
  },
  "language_info": {
   "codemirror_mode": {
    "name": "ipython",
    "version": 3
   },
   "file_extension": ".py",
   "mimetype": "text/x-python",
   "name": "python",
   "nbconvert_exporter": "python",
   "pygments_lexer": "ipython3",
   "version": "3.12.4"
  }
 },
 "nbformat": 4,
 "nbformat_minor": 2
}

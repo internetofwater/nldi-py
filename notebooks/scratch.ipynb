{
 "cells": [
  {
   "cell_type": "code",
   "execution_count": 4,
   "metadata": {},
   "outputs": [],
   "source": [
    "from nldi.util import load_yaml\n",
    "\n"
   ]
  },
  {
   "cell_type": "code",
   "execution_count": 5,
   "metadata": {},
   "outputs": [],
   "source": [
    "sources_config = load_yaml('../tests/data/sources_config.yml')"
   ]
  },
  {
   "cell_type": "code",
   "execution_count": 6,
   "metadata": {},
   "outputs": [
    {
     "data": {
      "text/plain": [
       "{'sources': [{'crawler_source_id': 1,\n",
       "   'source_name': 'Water Quality Portal',\n",
       "   'source_suffix': 'WQP',\n",
       "   'source_uri': 'https://www.waterqualitydata.us/data/Station/search?mimeType=geojson&minactivities=1&counts=no',\n",
       "   'feature_id': 'MonitoringLocationIdentifier',\n",
       "   'feature_name': 'MonitoringLocationName',\n",
       "   'feature_uri': 'siteUrl',\n",
       "   'feature_reach': None,\n",
       "   'feature_measure': None,\n",
       "   'ingest_type': 'point',\n",
       "   'feature_type': 'varies'},\n",
       "  {'crawler_source_id': 2,\n",
       "   'source_name': 'NWIS Surface Water Sites',\n",
       "   'source_suffix': 'nwissite',\n",
       "   'source_uri': 'https://www.sciencebase.gov/catalog/file/get/60c7b895d34e86b9389b2a6c?name=usgs_nldi_gages.geojson',\n",
       "   'feature_id': 'provider_id',\n",
       "   'feature_name': 'name',\n",
       "   'feature_uri': 'subjectOf',\n",
       "   'feature_reach': 'nhdpv2_REACHCODE',\n",
       "   'feature_measure': 'nhdpv2_REACH_measure',\n",
       "   'ingest_type': 'reach',\n",
       "   'feature_type': 'hydrolocation'},\n",
       "  {'crawler_source_id': 3,\n",
       "   'source_name': 'HUC12 Pour Points',\n",
       "   'source_suffix': 'huc12pp',\n",
       "   'source_uri': 'https://www.sciencebase.gov/catalogMaps/mapping/ows/57336b02e4b0dae0d5dd619a?service=WFS&version=1.0.0&request=GetFeature&srsName=EPSG:4326&typeName=sb:fpp&outputFormat=json',\n",
       "   'feature_id': 'HUC_12',\n",
       "   'feature_name': 'HUC_12',\n",
       "   'feature_uri': 'HUC_12',\n",
       "   'feature_reach': None,\n",
       "   'feature_measure': None,\n",
       "   'ingest_type': 'point',\n",
       "   'feature_type': 'hydrolocation'}]}"
      ]
     },
     "execution_count": 6,
     "metadata": {},
     "output_type": "execute_result"
    }
   ],
   "source": [
    "sources_config"
   ]
  },
  {
   "cell_type": "code",
   "execution_count": 9,
   "metadata": {},
   "outputs": [],
   "source": [
    "import pathlib\n",
    "\n",
    "p = pathlib.Path('../tests/data/sources_config.yml').resolve()"
   ]
  },
  {
   "cell_type": "code",
   "execution_count": 10,
   "metadata": {},
   "outputs": [],
   "source": [
    "fh = p.open()"
   ]
  },
  {
   "cell_type": "code",
   "execution_count": 11,
   "metadata": {},
   "outputs": [
    {
     "data": {
      "text/plain": [
       "_io.TextIOWrapper"
      ]
     },
     "execution_count": 11,
     "metadata": {},
     "output_type": "execute_result"
    }
   ],
   "source": [
    "type(fh)"
   ]
  },
  {
   "cell_type": "code",
   "execution_count": null,
   "metadata": {},
   "outputs": [],
   "source": []
  }
 ],
 "metadata": {
  "kernelspec": {
   "display_name": ".venv",
   "language": "python",
   "name": "python3"
  },
  "language_info": {
   "codemirror_mode": {
    "name": "ipython",
    "version": 3
   },
   "file_extension": ".py",
   "mimetype": "text/x-python",
   "name": "python",
   "nbconvert_exporter": "python",
   "pygments_lexer": "ipython3",
   "version": "3.12.4"
  }
 },
 "nbformat": 4,
 "nbformat_minor": 2
}

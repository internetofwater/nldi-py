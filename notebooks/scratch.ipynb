{
 "cells": [
  {
   "cell_type": "code",
   "execution_count": 7,
   "metadata": {},
   "outputs": [],
   "source": [
    "from nldi.handlers import CrawlerSourceHandler\n",
    "\n",
    "db_info = {\n",
    "        \"user\": \"nldi\",\n",
    "        \"password\": \"changeMe\",\n",
    "        \"host\": \"172.18.0.2\",\n",
    "        \"port\": 5432,\n",
    "        \"dbname\": \"nldi\",\n",
    "    }\n"
   ]
  },
  {
   "cell_type": "code",
   "execution_count": 8,
   "metadata": {},
   "outputs": [],
   "source": [
    "csh = CrawlerSourceHandler(db_info)"
   ]
  },
  {
   "cell_type": "code",
   "execution_count": 9,
   "metadata": {},
   "outputs": [
    {
     "data": {
      "text/plain": [
       "True"
      ]
     },
     "execution_count": 9,
     "metadata": {},
     "output_type": "execute_result"
    }
   ],
   "source": [
    "csh._heartbeat()"
   ]
  },
  {
   "cell_type": "code",
   "execution_count": 10,
   "metadata": {},
   "outputs": [
    {
     "data": {
      "text/plain": [
       "{'source_suffix': 'WQP',\n",
       " 'crawler_source_id': 1,\n",
       " 'feature_id': 'MonitoringLocationIdentifier',\n",
       " 'feature_uri': 'siteUrl',\n",
       " 'feature_measure': None,\n",
       " 'ingest_type': 'point',\n",
       " 'source_name': 'Water Quality Portal',\n",
       " 'source_uri': 'https://www.waterqualitydata.us/data/Station/search?mimeType=geojson&minactivities=1&counts=no',\n",
       " 'feature_name': 'MonitoringLocationName',\n",
       " 'feature_reach': None,\n",
       " 'feature_type': 'varies'}"
      ]
     },
     "execution_count": 10,
     "metadata": {},
     "output_type": "execute_result"
    }
   ],
   "source": [
    "csh.get(\"WQP\")"
   ]
  },
  {
   "cell_type": "code",
   "execution_count": null,
   "metadata": {},
   "outputs": [],
   "source": []
  }
 ],
 "metadata": {
  "kernelspec": {
   "display_name": ".venv",
   "language": "python",
   "name": "python3"
  },
  "language_info": {
   "codemirror_mode": {
    "name": "ipython",
    "version": 3
   },
   "file_extension": ".py",
   "mimetype": "text/x-python",
   "name": "python",
   "nbconvert_exporter": "python",
   "pygments_lexer": "ipython3",
   "version": "3.12.4"
  }
 },
 "nbformat": 4,
 "nbformat_minor": 2
}

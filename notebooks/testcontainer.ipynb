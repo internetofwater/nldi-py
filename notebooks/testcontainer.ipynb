{
 "cells": [
  {
   "cell_type": "code",
   "execution_count": 1,
   "metadata": {},
   "outputs": [
    {
     "data": {
      "text/plain": [
       "8"
      ]
     },
     "execution_count": 1,
     "metadata": {},
     "output_type": "execute_result"
    }
   ],
   "source": [
    "import os\n",
    "os.cpu_count()"
   ]
  },
  {
   "cell_type": "code",
   "execution_count": 2,
   "metadata": {},
   "outputs": [],
   "source": [
    "import sqlalchemy\n",
    "import logging\n"
   ]
  },
  {
   "cell_type": "code",
   "execution_count": null,
   "metadata": {},
   "outputs": [],
   "source": []
  },
  {
   "cell_type": "code",
   "execution_count": 3,
   "metadata": {},
   "outputs": [],
   "source": [
    "from testcontainers.core.container import DockerContainer\n",
    "from testcontainers.core.waiting_utils import wait_for_logs\n",
    "\n",
    "def nldi_db_container():\n",
    "    dc = DockerContainer(\"ghcr.io/internetofwater/nldi-db:demo\")\n",
    "    dc.with_exposed_ports(5432)\n",
    "    dc.with_env(\"POSTGRES_PASSWORD\", \"changeMe\")\n",
    "    dc.with_env(\"NLDI_DATABASE_ADDRESS\", \"localhost\")\n",
    "    dc.with_env(\"NLDI_DATABASE_NAME\", \"nldi\")\n",
    "    dc.with_env(\"NLDI_DB_OWNER_USERNAME\", \"nldi\")\n",
    "    dc.with_env(\"NLDI_DB_OWNER_PASSWORD\", \"changeMe\")\n",
    "    dc.with_env(\"NLDI_SCHEMA_OWNER_USERNAME\", \"nldi_schema_owner\")\n",
    "    dc.with_env(\"NLDI_SCHEMA_OWNER_PASSWORD\", \"changeMe\")\n",
    "    dc.with_env(\"NHDPLUS_SCHEMA_OWNER_USERNAME\", \"nhdplus\")\n",
    "    dc.with_env(\"NLDI_READ_ONLY_USERNAME\", \"read_only_user\")\n",
    "    dc.with_env(\"NLDI_READ_ONLY_PASSWORD\", \"changeMe\")\n",
    "    dc.with_volume_mapping(\"data\", \"/var/lib/postgresql/data\", mode=\"rw\")\n",
    "\n",
    "    dc.start()\n",
    "    delay = wait_for_logs(dc, \"database system is ready to accept connections\")\n",
    "    logging.info(f\"Postgres container started in {delay} seconds\")\n",
    "\n",
    "    client = dc.get_docker_client()\n",
    "    db_info = {\n",
    "        \"user\": \"nldi\",\n",
    "        \"password\": \"changeMe\",\n",
    "        \"host\": client.bridge_ip(dc.get_wrapped_container().short_id),\n",
    "        \"port\": 5432,\n",
    "        \"dbname\": \"nldi\",\n",
    "    }\n",
    "    return db_info\n",
    "\n"
   ]
  },
  {
   "cell_type": "code",
   "execution_count": 4,
   "metadata": {},
   "outputs": [
    {
     "name": "stderr",
     "output_type": "stream",
     "text": [
      "Pulling image testcontainers/ryuk:0.7.0\n",
      "Container started: 16c8fba90940\n",
      "Waiting for container <Container: 16c8fba90940> with image testcontainers/ryuk:0.7.0 to be ready ...\n",
      "Pulling image ghcr.io/internetofwater/nldi-db:demo\n",
      "Container started: f5d1fceca0d5\n"
     ]
    }
   ],
   "source": [
    "dc = nldi_db_container()"
   ]
  },
  {
   "cell_type": "code",
   "execution_count": 7,
   "metadata": {},
   "outputs": [
    {
     "data": {
      "text/plain": [
       "{'user': 'nldi',\n",
       " 'password': 'changeMe',\n",
       " 'host': '172.18.0.3',\n",
       " 'port': 5432,\n",
       " 'dbname': 'nldi'}"
      ]
     },
     "execution_count": 7,
     "metadata": {},
     "output_type": "execute_result"
    }
   ],
   "source": [
    "dc"
   ]
  },
  {
   "cell_type": "code",
   "execution_count": null,
   "metadata": {},
   "outputs": [],
   "source": [
    "\n",
    "\n",
    "\n",
    "\n",
    "\n",
    "\n",
    "dc.stop()"
   ]
  },
  {
   "cell_type": "code",
   "execution_count": 21,
   "metadata": {},
   "outputs": [
    {
     "name": "stdout",
     "output_type": "stream",
     "text": [
      "1\n"
     ]
    }
   ],
   "source": [
    "engine = sqlalchemy.create_engine(f'postgresql+psycopg2://nldi:changeMe@{client.bridge_ip(dc.get_wrapped_container().short_id)}:5432/nldi')\n",
    "with engine.begin() as connection:\n",
    "    v, = connection.execute(sqlalchemy.text(\"SELECT 1\")).fetchone()\n",
    "print(v)"
   ]
  },
  {
   "cell_type": "code",
   "execution_count": 22,
   "metadata": {},
   "outputs": [],
   "source": [
    "dc.stop()"
   ]
  },
  {
   "cell_type": "code",
   "execution_count": null,
   "metadata": {},
   "outputs": [],
   "source": []
  }
 ],
 "metadata": {
  "kernelspec": {
   "display_name": ".venv",
   "language": "python",
   "name": "python3"
  },
  "language_info": {
   "codemirror_mode": {
    "name": "ipython",
    "version": 3
   },
   "file_extension": ".py",
   "mimetype": "text/x-python",
   "name": "python",
   "nbconvert_exporter": "python",
   "pygments_lexer": "ipython3",
   "version": "3.12.4"
  }
 },
 "nbformat": 4,
 "nbformat_minor": 2
}
